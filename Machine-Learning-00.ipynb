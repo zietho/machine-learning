{
  "cells": [
    {
      "metadata": {
        "id": "twzz2ej4tiNh",
        "colab_type": "code",
        "colab": {},
        "outputId": "6b647a98-0ba3-4786-bb5b-4a6bd8d1bbcd",
        "trusted": false
      },
      "cell_type": "code",
      "source": "for i in range(0,20):\n    print(i)",
      "execution_count": 0,
      "outputs": [
        {
          "output_type": "stream",
          "text": "0\n1\n2\n3\n4\n5\n6\n7\n8\n9\n10\n11\n12\n13\n14\n15\n16\n17\n18\n19\n",
          "name": "stdout"
        }
      ]
    },
    {
      "metadata": {
        "id": "gWcxmtndtiN4",
        "colab_type": "code",
        "colab": {},
        "trusted": false
      },
      "cell_type": "code",
      "source": "test commit",
      "execution_count": 0,
      "outputs": []
    },
    {
      "metadata": {
        "trusted": true
      },
      "cell_type": "code",
      "source": "#test commit from azure",
      "execution_count": null,
      "outputs": []
    }
  ],
  "metadata": {
    "colab": {
      "name": "Machine-Learning-00.ipynb",
      "version": "0.3.2",
      "provenance": []
    },
    "kernelspec": {
      "name": "python3",
      "display_name": "Python 3",
      "language": "python"
    },
    "language_info": {
      "mimetype": "text/x-python",
      "nbconvert_exporter": "python",
      "name": "python",
      "pygments_lexer": "ipython3",
      "version": "3.5.4",
      "file_extension": ".py",
      "codemirror_mode": {
        "version": 3,
        "name": "ipython"
      }
    }
  },
  "nbformat": 4,
  "nbformat_minor": 1
}