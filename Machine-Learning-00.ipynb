{
 "cells": [
  {
   "cell_type": "code",
   "execution_count": 1,
   "metadata": {},
   "outputs": [],
   "source": [
    "import pandas as pd\n",
    "import matplotlib as plt\n",
    "import numpy as np"
   ]
  },
  {
   "cell_type": "markdown",
   "metadata": {},
   "source": [
    "# Data Set 1: sentiment140\n",
    "\n",
    "Abstract: This is the sentiment140 dataset. It contains 1,600,000 tweets extracted using the twitter api . The tweets have been annotated (0 = negative, 4 = positive) and they can be used to detect sentiment. <sup>1</sup>\n",
    "\n",
    "<sup>1</sup> https://www.kaggle.com/kazanova/sentiment140"
   ]
  },
  {
   "cell_type": "code",
   "execution_count": 8,
   "metadata": {},
   "outputs": [
    {
     "data": {
      "text/plain": [
       "(164999, 6)"
      ]
     },
     "execution_count": 8,
     "metadata": {},
     "output_type": "execute_result"
    }
   ],
   "source": [
    "urls = 'datasets/training.1600000.processed.noemoticon.csv'\n",
    "\n",
    "df = pd.read_csv(url,encoding='latin-1')\n",
    "\n",
    "df.head()\n",
    "df.shape"
   ]
  },
  {
   "cell_type": "code",
   "execution_count": 9,
   "metadata": {},
   "outputs": [
    {
     "data": {
      "text/html": [
       "<div>\n",
       "<style scoped>\n",
       "    .dataframe tbody tr th:only-of-type {\n",
       "        vertical-align: middle;\n",
       "    }\n",
       "\n",
       "    .dataframe tbody tr th {\n",
       "        vertical-align: top;\n",
       "    }\n",
       "\n",
       "    .dataframe thead th {\n",
       "        text-align: right;\n",
       "    }\n",
       "</style>\n",
       "<table border=\"1\" class=\"dataframe\">\n",
       "  <thead>\n",
       "    <tr style=\"text-align: right;\">\n",
       "      <th></th>\n",
       "      <th>0</th>\n",
       "      <th>1960583763</th>\n",
       "      <th>Fri May 29 08:11:25 PDT 2009</th>\n",
       "      <th>NO_QUERY</th>\n",
       "      <th>Arnulfo</th>\n",
       "      <th>darn it. I did it again.!  keep forgetting that darn &amp;quot;D&amp;quot; for DM's.....</th>\n",
       "    </tr>\n",
       "  </thead>\n",
       "  <tbody>\n",
       "    <tr>\n",
       "      <th>0</th>\n",
       "      <td>0</td>\n",
       "      <td>1960584142</td>\n",
       "      <td>Fri May 29 08:11:27 PDT 2009</td>\n",
       "      <td>NO_QUERY</td>\n",
       "      <td>mainelementlove</td>\n",
       "      <td>@DonnaSpeaks I dont know  I didnt even realize...</td>\n",
       "    </tr>\n",
       "    <tr>\n",
       "      <th>1</th>\n",
       "      <td>0</td>\n",
       "      <td>1960584360</td>\n",
       "      <td>Fri May 29 08:11:28 PDT 2009</td>\n",
       "      <td>NO_QUERY</td>\n",
       "      <td>redchinese19</td>\n",
       "      <td>Wanna know a not fun way to wake up? Having a ...</td>\n",
       "    </tr>\n",
       "    <tr>\n",
       "      <th>2</th>\n",
       "      <td>0</td>\n",
       "      <td>1960584414</td>\n",
       "      <td>Fri May 29 08:11:28 PDT 2009</td>\n",
       "      <td>NO_QUERY</td>\n",
       "      <td>LDub47</td>\n",
       "      <td>Up. Showered. Struggling for the drive to get ...</td>\n",
       "    </tr>\n",
       "    <tr>\n",
       "      <th>3</th>\n",
       "      <td>0</td>\n",
       "      <td>1960584640</td>\n",
       "      <td>Fri May 29 08:11:30 PDT 2009</td>\n",
       "      <td>NO_QUERY</td>\n",
       "      <td>nat_73</td>\n",
       "      <td>my hubby is staying for one more week in Uzbek...</td>\n",
       "    </tr>\n",
       "    <tr>\n",
       "      <th>4</th>\n",
       "      <td>0</td>\n",
       "      <td>1960584783</td>\n",
       "      <td>Fri May 29 08:11:30 PDT 2009</td>\n",
       "      <td>NO_QUERY</td>\n",
       "      <td>LetsTwatThis</td>\n",
       "      <td>@jaceypants well piss on that. I can't get int...</td>\n",
       "    </tr>\n",
       "  </tbody>\n",
       "</table>\n",
       "</div>"
      ],
      "text/plain": [
       "   0  1960583763  Fri May 29 08:11:25 PDT 2009  NO_QUERY          Arnulfo  \\\n",
       "0  0  1960584142  Fri May 29 08:11:27 PDT 2009  NO_QUERY  mainelementlove   \n",
       "1  0  1960584360  Fri May 29 08:11:28 PDT 2009  NO_QUERY     redchinese19   \n",
       "2  0  1960584414  Fri May 29 08:11:28 PDT 2009  NO_QUERY           LDub47   \n",
       "3  0  1960584640  Fri May 29 08:11:30 PDT 2009  NO_QUERY           nat_73   \n",
       "4  0  1960584783  Fri May 29 08:11:30 PDT 2009  NO_QUERY     LetsTwatThis   \n",
       "\n",
       "  darn it. I did it again.!  keep forgetting that darn &quot;D&quot; for DM's.....    \n",
       "0  @DonnaSpeaks I dont know  I didnt even realize...                                  \n",
       "1  Wanna know a not fun way to wake up? Having a ...                                  \n",
       "2  Up. Showered. Struggling for the drive to get ...                                  \n",
       "3  my hubby is staying for one more week in Uzbek...                                  \n",
       "4  @jaceypants well piss on that. I can't get int...                                  "
      ]
     },
     "execution_count": 9,
     "metadata": {},
     "output_type": "execute_result"
    }
   ],
   "source": [
    "df.head()"
   ]
  },
  {
   "cell_type": "markdown",
   "metadata": {},
   "source": [
    "# Data Set 1: OPPORTUNITY Activity Recognition Dataset\n",
    "\n",
    "Abstract: \"The OPPORTUNITY Dataset for Human Activity Recognition from Wearable, Object, and Ambient Sensors is a dataset devised to benchmark human activity recognition algorithms (classification, automatic data segmentation, sensor fusion, feature extraction, etc). <sup>1</sup>\n",
    "\n",
    "<sup>1</sup> https://archive.ics.uci.edu/ml/datasets/OPPORTUNITY+Activity+Recognition#"
   ]
  },
  {
   "cell_type": "code",
   "execution_count": null,
   "metadata": {},
   "outputs": [],
   "source": []
  }
 ],
 "metadata": {
  "colab": {
   "name": "Machine-Learning-00.ipynb",
   "provenance": [],
   "version": "0.3.2"
  },
  "kernelspec": {
   "display_name": "Python 3",
   "language": "python",
   "name": "python3"
  },
  "language_info": {
   "codemirror_mode": {
    "name": "ipython",
    "version": 3
   },
   "file_extension": ".py",
   "mimetype": "text/x-python",
   "name": "python",
   "nbconvert_exporter": "python",
   "pygments_lexer": "ipython3",
   "version": "3.6.7"
  }
 },
 "nbformat": 4,
 "nbformat_minor": 1
}
